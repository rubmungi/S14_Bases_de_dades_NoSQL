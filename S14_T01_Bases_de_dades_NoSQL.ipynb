{
 "cells": [
  {
   "cell_type": "markdown",
   "id": "e52a80a4",
   "metadata": {},
   "source": [
    "# S14 T01: Tasca base de dades NoSQL"
   ]
  },
  {
   "cell_type": "code",
   "execution_count": 1,
   "id": "314054de",
   "metadata": {},
   "outputs": [],
   "source": [
    "import pymongo\n",
    "from pymongo import MongoClient\n",
    "import pandas as pd\n",
    "import matplotlib.pyplot as plt\n",
    "import seaborn as sns"
   ]
  },
  {
   "cell_type": "markdown",
   "id": "c557eb1e",
   "metadata": {},
   "source": [
    "## Exercici 1. Crea una base de dades NoSQL utilitzant MongoDB. Afegeix-li algunes dades d'exemple que et permetin comprovar que ets capaç de processar-ne la informació de manera bàsica."
   ]
  },
  {
   "cell_type": "markdown",
   "id": "e83403cf",
   "metadata": {},
   "source": [
    "Importem un arxiu csv a MongoDB des del sistema, no des de Mongo Shell (mongosh), per crear una base de dades."
   ]
  },
  {
   "cell_type": "markdown",
   "id": "75afb99b",
   "metadata": {},
   "source": [
    "~~~\n",
    "base) rusi@rusi-desktop:~$ mongoimport --db=seleccio --collection=jugadors --type=csv --headerline --file=/home/rusi/Escritorio/rubenIT/DataSources/jugadores00.csv\n",
    "2022-06-01T19:28:01.524+0200\tconnected to: mongodb://localhost/\n",
    "2022-06-01T19:28:01.548+0200\t654 document(s) imported successfully. 0 document(s) failed to import.\n",
    "~~~"
   ]
  },
  {
   "cell_type": "markdown",
   "id": "1280dd63",
   "metadata": {},
   "source": [
    "Un cop afegides les dades, comprovem que s'han carregat correctament des de la línia del sistema.\n",
    "\n",
    "~~~\n",
    "(base) rusi@rusi-desktop:~$ sudo mongo seleccio\n",
    "[sudo] contraseña para rusi:             \n",
    "MongoDB shell version v5.0.9\n",
    "connecting to: mongodb://127.0.0.1:27017/seleccio?compressors=disabled&gssapiServiceName=mongodb\n",
    "Implicit session: session { \"id\" : UUID(\"ccf75cf9-0d47-4d37-86eb-5bfe95673cf1\") }\n",
    "MongoDB server version: 5.0.9\n",
    "================\n",
    "Warning: the \"mongo\" shell has been superseded by \"mongosh\",\n",
    "which delivers improved usability and compatibility.The \"mongo\" shell has been deprecated and will be removed in\n",
    "an upcoming release.\n",
    "For installation instructions, see\n",
    "https://docs.mongodb.com/mongodb-shell/install/\n",
    "================\n",
    "Welcome to the MongoDB shell.\n",
    "For interactive help, type \"help\".\n",
    "For more comprehensive documentation, see\n",
    "\thttps://docs.mongodb.com/\n",
    "Questions? Try the MongoDB Developer Community Forums\n",
    "\thttps://community.mongodb.com\n",
    "---\n",
    "The server generated these startup warnings when booting: \n",
    "        2022-06-01T18:50:23.459+02:00: Using the XFS filesystem is strongly recommended with the WiredTiger storage engine. See http://dochub.mongodb.org/core/prodnotes-filesystem\n",
    "        2022-06-01T18:50:24.060+02:00: Access control is not enabled for the database. Read and write access to data and configuration is unrestricted\n",
    "---\n",
    "---\n",
    "        Enable MongoDB's free cloud-based monitoring service, which will then receive and display\n",
    "        metrics about your deployment (disk utilization, CPU, operation statistics, etc).\n",
    "\n",
    "        The monitoring data will be available on a MongoDB website with a unique URL accessible to you\n",
    "        and anyone you share the URL with. MongoDB may use this information to make product\n",
    "        improvements and to suggest MongoDB products and deployment options to you.\n",
    "\n",
    "        To enable free monitoring, run the following command: db.enableFreeMonitoring()\n",
    "        To permanently disable this reminder, run the following command: db.disableFreeMonitoring()\n",
    "~~~\n"
   ]
  },
  {
   "cell_type": "markdown",
   "id": "9204a54a",
   "metadata": {},
   "source": [
    "Després fem unes consultes senzilles per familiaritzar-nos amb el llenguatge de la base de dades.\n",
    "\n",
    "~~~\n",
    "> db.jugadors.findOne()\n",
    "{\n",
    "\t\"_id\" : ObjectId(\"6297a1a1a8704dcbc3d609f5\"),\n",
    "\t\"Apodo\" : \"Piquer\",\n",
    "\t\"Nombre\" : \"Vicente Piquer Mora\",\n",
    "\t\"Fecha\" : \"24/02/1935\",\n",
    "\t\"Ciudad\" : \"Algar de Palancia\",\n",
    "\t\"Provincia\" : \"Valencia\",\n",
    "\t\"País\" : \"España\",\n",
    "\t\"PJ\" : 1,\n",
    "\t\"PT\" : 1,\n",
    "\t\"PC\" : 1,\n",
    "\t\"PS\" : 0,\n",
    "\t\"PX\" : 0,\n",
    "\t\"PG\" : 0,\n",
    "\t\"PE\" : 1,\n",
    "\t\"PP\" : 0,\n",
    "\t\"Min\" : 90,\n",
    "\t\"G\" : 0,\n",
    "\t\"GP\" : 0,\n",
    "\t\"GPP\" : 0,\n",
    "\t\"GE\" : 0,\n",
    "\t\"TA\" : 0,\n",
    "\t\"TR\" : 0,\n",
    "\t\"EI\" : 26,\n",
    "\t\"EF\" : 26,\n",
    "\t\"Altura\" : 173,\n",
    "\t\"Peso\" : 71\n",
    "}\n",
    "> db.jugadors.count()\n",
    "654\n",
    "~~~"
   ]
  },
  {
   "cell_type": "markdown",
   "id": "baa8e3b3",
   "metadata": {},
   "source": [
    "~~~\n",
    "> db.jugadors.findOne({Provincia: \"Valencia\" })\n",
    "{\n",
    "\t\"_id\" : ObjectId(\"6297a1a1a8704dcbc3d609f5\"),\n",
    "\t\"Apodo\" : \"Piquer\",\n",
    "\t\"Nombre\" : \"Vicente Piquer Mora\",\n",
    "\t\"Fecha\" : \"24/02/1935\",\n",
    "\t\"Ciudad\" : \"Algar de Palancia\",\n",
    "\t\"Provincia\" : \"Valencia\",\n",
    "\t\"País\" : \"España\",\n",
    "\t\"PJ\" : 1,\n",
    "\t\"PT\" : 1,\n",
    "\t\"PC\" : 1,\n",
    "\t\"PS\" : 0,\n",
    "\t\"PX\" : 0,\n",
    "\t\"PG\" : 0,\n",
    "\t\"PE\" : 1,\n",
    "\t\"PP\" : 0,\n",
    "\t\"Min\" : 90,\n",
    "\t\"G\" : 0,\n",
    "\t\"GP\" : 0,\n",
    "\t\"GPP\" : 0,\n",
    "\t\"GE\" : 0,\n",
    "\t\"TA\" : 0,\n",
    "\t\"TR\" : 0,\n",
    "\t\"EI\" : 26,\n",
    "\t\"EF\" : 26,\n",
    "\t\"Altura\" : 173,\n",
    "\t\"Peso\" : 71\n",
    "}\n",
    "~~~"
   ]
  },
  {
   "cell_type": "markdown",
   "id": "d09f64c3",
   "metadata": {},
   "source": [
    "~~~\n",
    "> db.jugadors.find({Provincia: \"Barcelona\" }).limit(5)\n",
    "{ \"_id\" : ObjectId(\"6297a1a1a8704dcbc3d609fa\"), \"Apodo\" : \"Cucurella\", \"Nombre\" : \"Marc Cucurella Saseta\", \"Fecha\" : \"22/07/1998\", \"Ciudad\" : \"Alella\", \"Provincia\" : \"Barcelona\", \"País\" : \"España\", \"PJ\" : 1, \"PT\" : 1, \"PC\" : 0, \"PS\" : 0, \"PX\" : 1, \"PG\" : 1, \"PE\" : 0, \"PP\" : 0, \"Min\" : 46, \"G\" : 0, \"GP\" : 0, \"GPP\" : 0, \"GE\" : 0, \"TA\" : 0, \"TR\" : 0, \"EI\" : 22, \"EF\" : 22, \"Altura\" : 172, \"Peso\" : 68 }\n",
    "{ \"_id\" : ObjectId(\"6297a1a1a8704dcbc3d60a0a\"), \"Apodo\" : \"Manchón\", \"Nombre\" : \"Eduardo Manchón Molina\", \"Fecha\" : \"24/07/1930\", \"Ciudad\" : \"Barcelona\", \"Provincia\" : \"Barcelona\", \"País\" : \"España\", \"PJ\" : 1, \"PT\" : 1, \"PC\" : 1, \"PS\" : 0, \"PX\" : 0, \"PG\" : 0, \"PE\" : 0, \"PP\" : 1, \"Min\" : 90, \"G\" : 0, \"GP\" : 0, \"GPP\" : 0, \"GE\" : 0, \"TA\" : 0, \"TR\" : 0, \"EI\" : 23, \"EF\" : 23, \"Altura\" : 168, \"Peso\" : 62 }\n",
    "{ \"_id\" : ObjectId(\"6297a1a1a8704dcbc3d60a0b\"), \"Apodo\" : \"Fortes\", \"Nombre\" : \"Francisco Fortes Calvo\", \"Fecha\" : \"04/01/1955\", \"Ciudad\" : \"Barcelona\", \"Provincia\" : \"Barcelona\", \"País\" : \"España\", \"PJ\" : 1, \"PT\" : 0, \"PC\" : 0, \"PS\" : 1, \"PX\" : 0, \"PG\" : 0, \"PE\" : 1, \"PP\" : 0, \"Min\" : 14, \"G\" : 0, \"GP\" : 0, \"GPP\" : 0, \"GE\" : 0, \"TA\" : 0, \"TR\" : 0, \"EI\" : 20, \"EF\" : 20, \"Altura\" : 170, \"Peso\" : 70 }\n",
    "{ \"_id\" : ObjectId(\"6297a1a1a8704dcbc3d60a0e\"), \"Apodo\" : \"Puado\", \"Nombre\" : \"Javier Puado Díaz\", \"Fecha\" : \"25/05/1998\", \"Ciudad\" : \"Barcelona\", \"Provincia\" : \"Barcelona\", \"País\" : \"España\", \"PJ\" : 1, \"PT\" : 0, \"PC\" : 0, \"PS\" : 1, \"PX\" : 0, \"PG\" : 1, \"PE\" : 0, \"PP\" : 0, \"Min\" : 37, \"G\" : 1, \"GP\" : 0, \"GPP\" : 0, \"GE\" : 0, \"TA\" : 0, \"TR\" : 0, \"EI\" : 23, \"EF\" : 23, \"Altura\" : 177, \"Peso\" : 69 }\n",
    "{ \"_id\" : ObjectId(\"6297a1a1a8704dcbc3d60a0f\"), \"Apodo\" : \"Raya\", \"Nombre\" : \"David Raya Martín\", \"Fecha\" : \"15/09/1995\", \"Ciudad\" : \"Barcelona\", \"Provincia\" : \"Barcelona\", \"País\" : \"España\", \"PJ\" : 1, \"PT\" : 1, \"PC\" : 1, \"PS\" : 0, \"PX\" : 0, \"PG\" : 1, \"PE\" : 0, \"PP\" : 0, \"Min\" : 90, \"G\" : 0, \"GP\" : 0, \"GPP\" : 0, \"GE\" : 1, \"TA\" : 0, \"TR\" : 0, \"EI\" : 26, \"EF\" : 26, \"Altura\" : 183, \"Peso\" : 80 }\n",
    "~~~"
   ]
  },
  {
   "cell_type": "markdown",
   "id": "ef6c354a",
   "metadata": {},
   "source": [
    "## Exercici 2. Connecta la base de dades NoSQL a Python utilitzant per exemple pymongo."
   ]
  },
  {
   "cell_type": "markdown",
   "id": "ed948970",
   "metadata": {},
   "source": [
    "Realitzem la connexió a MongoDB i comprovem que existeix."
   ]
  },
  {
   "cell_type": "code",
   "execution_count": 2,
   "id": "cf50ebfc",
   "metadata": {},
   "outputs": [],
   "source": [
    "myclient = pymongo.MongoClient(\"mongodb://localhost:27017/\")"
   ]
  },
  {
   "cell_type": "code",
   "execution_count": 3,
   "id": "9c723343",
   "metadata": {},
   "outputs": [],
   "source": [
    "mydb = myclient[\"seleccio\"]"
   ]
  },
  {
   "cell_type": "code",
   "execution_count": 4,
   "id": "e088c2e1",
   "metadata": {},
   "outputs": [
    {
     "name": "stdout",
     "output_type": "stream",
     "text": [
      "['admin', 'config', 'local', 'seleccio']\n"
     ]
    }
   ],
   "source": [
    "print(myclient.list_database_names())"
   ]
  },
  {
   "cell_type": "markdown",
   "id": "7d315480",
   "metadata": {},
   "source": [
    "## Exercici 3. Carrega algunes consultes senzilles a un Pandas Dataframe. "
   ]
  },
  {
   "cell_type": "markdown",
   "id": "6c8fbf79",
   "metadata": {},
   "source": [
    "### Fem 4 queries des de Python i les convertim a Pandas.\n",
    "1. Consulta de selecció de jugadors nascuts a Sabadell.\n",
    "2. Consulta països de naixement dels jugadors.\n",
    "3. Consulta d'un jugador en concret.\n",
    "4. Consulta de tots els jugadors entre dues alçades."
   ]
  },
  {
   "cell_type": "code",
   "execution_count": 5,
   "id": "9e910f3e",
   "metadata": {},
   "outputs": [
    {
     "name": "stdout",
     "output_type": "stream",
     "text": [
      "{'_id': ObjectId('6297a1a1a8704dcbc3d60b8c'), 'Apodo': 'Eladio', 'Nombre': 'Eladio Silvestre Graells', 'Fecha': '18/11/1940', 'Ciudad': 'Sabadell', 'Provincia': 'Barcelona', 'País': 'España', 'PJ': 10, 'PT': 10, 'PC': 9, 'PS': 0, 'PX': 0, 'PG': 4, 'PE': 4, 'PP': 2, 'Min': 873, 'G': 0, 'GP': 0, 'GPP': 0, 'GE': 0, 'TA': 0, 'TR': 1, 'EI': 25, 'EF': 29, 'Altura': 179.0, 'Peso': 80.0}\n",
      "{'_id': ObjectId('6297a1a1a8704dcbc3d60bb4'), 'Apodo': 'Marcelino', 'Nombre': 'Marcelino Pérez Ayllón', 'Fecha': '13/08/1955', 'Ciudad': 'Sabadell', 'Provincia': 'Barcelona', 'País': 'España', 'PJ': 13, 'PT': 12, 'PC': 11, 'PS': 1, 'PX': 1, 'PG': 7, 'PE': 2, 'PP': 4, 'Min': 1043, 'G': 0, 'GP': 0, 'GPP': 0, 'GE': 0, 'TA': 1, 'TR': 0, 'EI': 22, 'EF': 23, 'Altura': 171.0, 'Peso': 68.0}\n",
      "{'_id': ObjectId('6297a1a1a8704dcbc3d60bb5'), 'Apodo': 'Olmo', 'Nombre': 'Antonio Olmo Ramírez', 'Fecha': '18/01/1954', 'Ciudad': 'Sabadell', 'Provincia': 'Barcelona', 'País': 'España', 'PJ': 13, 'PT': 9, 'PC': 8, 'PS': 4, 'PX': 1, 'PG': 7, 'PE': 2, 'PP': 4, 'Min': 956, 'G': 0, 'GP': 0, 'GPP': 0, 'GE': 0, 'TA': 1, 'TR': 0, 'EI': 23, 'EF': 26, 'Altura': 181.0, 'Peso': 79.0}\n",
      "{'_id': ObjectId('6297a1a1a8704dcbc3d60c7f'), 'Apodo': 'Busquets', 'Nombre': 'Sergio Busquets Burgos', 'Fecha': '16/07/1988', 'Ciudad': 'Sabadell', 'Provincia': 'Barcelona', 'País': 'España', 'PJ': 133, 'PT': 119, 'PC': 89, 'PS': 14, 'PX': 30, 'PG': 94, 'PE': 20, 'PP': 19, 'Min': 10570, 'G': 2, 'GP': 0, 'GPP': 0, 'GE': 0, 'TA': 23, 'TR': 0, 'EI': 20, 'EF': 32, 'Altura': 189.0, 'Peso': 76.0}\n"
     ]
    }
   ],
   "source": [
    "#Consulta dels jugadors que han jugat a la selecció i van nèixer a Sabadell\n",
    "mycol = mydb[\"jugadors\"]\n",
    "myquery = { \"Ciudad\": { \"$regex\": \"^Sabad\" } }\n",
    "\n",
    "mydoc = mycol.find(myquery)\n",
    "\n",
    "for x in mydoc:\n",
    "  print(x) "
   ]
  },
  {
   "cell_type": "code",
   "execution_count": 6,
   "id": "2b218228",
   "metadata": {},
   "outputs": [
    {
     "name": "stdout",
     "output_type": "stream",
     "text": [
      "                        _id      Apodo                    Nombre       Fecha  \\\n",
      "0  6297a1a1a8704dcbc3d60b8c     Eladio  Eladio Silvestre Graells  18/11/1940   \n",
      "1  6297a1a1a8704dcbc3d60bb4  Marcelino    Marcelino Pérez Ayllón  13/08/1955   \n",
      "2  6297a1a1a8704dcbc3d60bb5       Olmo      Antonio Olmo Ramírez  18/01/1954   \n",
      "3  6297a1a1a8704dcbc3d60c7f   Busquets    Sergio Busquets Burgos  16/07/1988   \n",
      "\n",
      "     Ciudad  Provincia    País   PJ   PT  PC  ...  G  GP  GPP  GE  TA  TR  EI  \\\n",
      "0  Sabadell  Barcelona  España   10   10   9  ...  0   0    0   0   0   1  25   \n",
      "1  Sabadell  Barcelona  España   13   12  11  ...  0   0    0   0   1   0  22   \n",
      "2  Sabadell  Barcelona  España   13    9   8  ...  0   0    0   0   1   0  23   \n",
      "3  Sabadell  Barcelona  España  133  119  89  ...  2   0    0   0  23   0  20   \n",
      "\n",
      "   EF  Altura  Peso  \n",
      "0  29   179.0  80.0  \n",
      "1  23   171.0  68.0  \n",
      "2  26   181.0  79.0  \n",
      "3  32   189.0  76.0  \n",
      "\n",
      "[4 rows x 26 columns]\n",
      "<class 'pandas.core.frame.DataFrame'>\n",
      "RangeIndex: 4 entries, 0 to 3\n",
      "Data columns (total 26 columns):\n",
      " #   Column     Non-Null Count  Dtype  \n",
      "---  ------     --------------  -----  \n",
      " 0   _id        4 non-null      object \n",
      " 1   Apodo      4 non-null      object \n",
      " 2   Nombre     4 non-null      object \n",
      " 3   Fecha      4 non-null      object \n",
      " 4   Ciudad     4 non-null      object \n",
      " 5   Provincia  4 non-null      object \n",
      " 6   País       4 non-null      object \n",
      " 7   PJ         4 non-null      int64  \n",
      " 8   PT         4 non-null      int64  \n",
      " 9   PC         4 non-null      int64  \n",
      " 10  PS         4 non-null      int64  \n",
      " 11  PX         4 non-null      int64  \n",
      " 12  PG         4 non-null      int64  \n",
      " 13  PE         4 non-null      int64  \n",
      " 14  PP         4 non-null      int64  \n",
      " 15  Min        4 non-null      int64  \n",
      " 16  G          4 non-null      int64  \n",
      " 17  GP         4 non-null      int64  \n",
      " 18  GPP        4 non-null      int64  \n",
      " 19  GE         4 non-null      int64  \n",
      " 20  TA         4 non-null      int64  \n",
      " 21  TR         4 non-null      int64  \n",
      " 22  EI         4 non-null      int64  \n",
      " 23  EF         4 non-null      int64  \n",
      " 24  Altura     4 non-null      float64\n",
      " 25  Peso       4 non-null      float64\n",
      "dtypes: float64(2), int64(17), object(7)\n",
      "memory usage: 960.0+ bytes\n",
      "None\n"
     ]
    }
   ],
   "source": [
    "#Conversió a Pandas Dataframe\n",
    "df_filtre_sabadell = pd.DataFrame(list(mycol.find(myquery)))\n",
    "print(df_filtre_sabadell.head())\n",
    "print(df_filtre_sabadell.info())"
   ]
  },
  {
   "cell_type": "code",
   "execution_count": 7,
   "id": "b0e3d9bc",
   "metadata": {},
   "outputs": [
    {
     "name": "stdout",
     "output_type": "stream",
     "text": [
      "Alemania\n",
      "Argentina\n",
      "Brasil\n",
      "Dinamarca\n",
      "España\n",
      "Francia\n",
      "Guinea Ecuatorial\n",
      "Guinea-Bisáu\n",
      "Hungría\n",
      "Italia\n",
      "Marruecos\n",
      "Mauritania\n",
      "Paraguay\n",
      "Suiza\n",
      "Uruguay\n"
     ]
    }
   ],
   "source": [
    "#Consulta dels països de naixement en ordre ascendent\n",
    "mydoc = mydb.jugadors.distinct(\"País\")\n",
    "\n",
    "for x in mydoc:\n",
    "  print(x)"
   ]
  },
  {
   "cell_type": "code",
   "execution_count": 8,
   "id": "1e990e4a",
   "metadata": {},
   "outputs": [
    {
     "name": "stdout",
     "output_type": "stream",
     "text": [
      "           0\n",
      "0   Alemania\n",
      "1  Argentina\n",
      "2     Brasil\n",
      "3  Dinamarca\n",
      "4     España\n",
      "<class 'pandas.core.frame.DataFrame'>\n",
      "RangeIndex: 15 entries, 0 to 14\n",
      "Data columns (total 1 columns):\n",
      " #   Column  Non-Null Count  Dtype \n",
      "---  ------  --------------  ----- \n",
      " 0   0       15 non-null     object\n",
      "dtypes: object(1)\n",
      "memory usage: 248.0+ bytes\n",
      "None\n"
     ]
    }
   ],
   "source": [
    "#Conversió a Pandas Dataframe\n",
    "df_filtre_pais = pd.DataFrame(list(mydoc))\n",
    "print(df_filtre_pais.head())\n",
    "print(df_filtre_pais.info())"
   ]
  },
  {
   "cell_type": "code",
   "execution_count": 9,
   "id": "900db5a7",
   "metadata": {},
   "outputs": [
    {
     "name": "stdout",
     "output_type": "stream",
     "text": [
      "{'_id': ObjectId('6297a1a1a8704dcbc3d60c66'), 'Apodo': 'Luis Enrique', 'Nombre': 'Luis Enrique Martínez García', 'Fecha': '08/05/1970', 'Ciudad': 'Gijón', 'Provincia': 'Asturias', 'País': 'España', 'PJ': 62, 'PT': 54, 'PC': 36, 'PS': 8, 'PX': 18, 'PG': 36, 'PE': 18, 'PP': 8, 'Min': 4632, 'G': 12, 'GP': 0, 'GPP': 0, 'GE': 0, 'TA': 8, 'TR': 0, 'EI': 20, 'EF': 32, 'Altura': 180.0, 'Peso': 73.0}\n"
     ]
    }
   ],
   "source": [
    "#Busquem les dades de Luis Enrique en la seva època de jugador\n",
    "myquery = { \"Apodo\": \"Luis Enrique\" }\n",
    "\n",
    "mydoc = mycol.find(myquery)\n",
    "\n",
    "for x in mydoc:\n",
    "  print(x) "
   ]
  },
  {
   "cell_type": "code",
   "execution_count": 10,
   "id": "8bc09a22",
   "metadata": {},
   "outputs": [
    {
     "name": "stdout",
     "output_type": "stream",
     "text": [
      "                        _id         Apodo                        Nombre  \\\n",
      "0  6297a1a1a8704dcbc3d60c66  Luis Enrique  Luis Enrique Martínez García   \n",
      "\n",
      "        Fecha Ciudad Provincia    País  PJ  PT  PC  ...   G  GP  GPP  GE  TA  \\\n",
      "0  08/05/1970  Gijón  Asturias  España  62  54  36  ...  12   0    0   0   8   \n",
      "\n",
      "   TR  EI  EF  Altura  Peso  \n",
      "0   0  20  32   180.0  73.0  \n",
      "\n",
      "[1 rows x 26 columns]\n",
      "<class 'pandas.core.frame.DataFrame'>\n",
      "RangeIndex: 1 entries, 0 to 0\n",
      "Data columns (total 26 columns):\n",
      " #   Column     Non-Null Count  Dtype  \n",
      "---  ------     --------------  -----  \n",
      " 0   _id        1 non-null      object \n",
      " 1   Apodo      1 non-null      object \n",
      " 2   Nombre     1 non-null      object \n",
      " 3   Fecha      1 non-null      object \n",
      " 4   Ciudad     1 non-null      object \n",
      " 5   Provincia  1 non-null      object \n",
      " 6   País       1 non-null      object \n",
      " 7   PJ         1 non-null      int64  \n",
      " 8   PT         1 non-null      int64  \n",
      " 9   PC         1 non-null      int64  \n",
      " 10  PS         1 non-null      int64  \n",
      " 11  PX         1 non-null      int64  \n",
      " 12  PG         1 non-null      int64  \n",
      " 13  PE         1 non-null      int64  \n",
      " 14  PP         1 non-null      int64  \n",
      " 15  Min        1 non-null      int64  \n",
      " 16  G          1 non-null      int64  \n",
      " 17  GP         1 non-null      int64  \n",
      " 18  GPP        1 non-null      int64  \n",
      " 19  GE         1 non-null      int64  \n",
      " 20  TA         1 non-null      int64  \n",
      " 21  TR         1 non-null      int64  \n",
      " 22  EI         1 non-null      int64  \n",
      " 23  EF         1 non-null      int64  \n",
      " 24  Altura     1 non-null      float64\n",
      " 25  Peso       1 non-null      float64\n",
      "dtypes: float64(2), int64(17), object(7)\n",
      "memory usage: 336.0+ bytes\n",
      "None\n"
     ]
    }
   ],
   "source": [
    "#Conversió a Pandas Dataframe\n",
    "df_filtre_unjugador = pd.DataFrame(list(mycol.find(myquery)))\n",
    "print(df_filtre_unjugador.head())\n",
    "print(df_filtre_unjugador.info())"
   ]
  },
  {
   "cell_type": "code",
   "execution_count": 11,
   "id": "1134f18d",
   "metadata": {},
   "outputs": [
    {
     "name": "stdout",
     "output_type": "stream",
     "text": [
      "{'_id': ObjectId('6297a1a1a8704dcbc3d609f9'), 'Apodo': 'Etxeita', 'Nombre': 'Xabier Etxeita Gorritxategi', 'Fecha': '31/10/1987', 'Ciudad': 'Amorebieta-Etxano', 'Provincia': 'Bizkaia', 'País': 'España', 'PJ': 1, 'PT': 1, 'PC': 1, 'PS': 0, 'PX': 0, 'PG': 1, 'PE': 0, 'PP': 0, 'Min': 90, 'G': 0, 'GP': 0, 'GPP': 0, 'GE': 0, 'TA': 0, 'TR': 0, 'EI': 27, 'EF': 27, 'Altura': 186.0, 'Peso': 80.0}\n",
      "{'_id': ObjectId('6297a1a1a8704dcbc3d609fb'), 'Apodo': 'Álvaro Fernández', 'Nombre': 'Álvaro Fernández Llorente', 'Fecha': '13/04/1998', 'Ciudad': 'Arnedo', 'Provincia': 'La Rioja', 'País': 'España', 'PJ': 1, 'PT': 1, 'PC': 0, 'PS': 0, 'PX': 1, 'PG': 1, 'PE': 0, 'PP': 0, 'Min': 68, 'G': 0, 'GP': 0, 'GPP': 0, 'GE': 0, 'TA': 0, 'TR': 0, 'EI': 23, 'EF': 23, 'Altura': 186.0, 'Peso': 80.0}\n",
      "{'_id': ObjectId('6297a1a1a8704dcbc3d60a00'), 'Apodo': 'Lopetegui', 'Nombre': 'Julen Lopetegi Agote', 'Fecha': '28/08/1966', 'Ciudad': 'Asteasu', 'Provincia': 'Gipuzkoa', 'País': 'España', 'PJ': 1, 'PT': 0, 'PC': 0, 'PS': 1, 'PX': 0, 'PG': 0, 'PE': 0, 'PP': 1, 'Min': 26, 'G': 0, 'GP': 0, 'GPP': 0, 'GE': 0, 'TA': 0, 'TR': 0, 'EI': 27, 'EF': 27, 'Altura': 185.0, 'Peso': 84.0}\n",
      "{'_id': ObjectId('6297a1a1a8704dcbc3d60a1a'), 'Apodo': 'César', 'Nombre': 'César Sánchez Domínguez', 'Fecha': '02/09/1971', 'Ciudad': 'Coria', 'Provincia': 'Cáceres', 'País': 'España', 'PJ': 1, 'PT': 1, 'PC': 1, 'PS': 0, 'PX': 0, 'PG': 0, 'PE': 0, 'PP': 1, 'Min': 90, 'G': 0, 'GP': 0, 'GPP': 0, 'GE': 4, 'TA': 0, 'TR': 0, 'EI': 28, 'EF': 28, 'Altura': 185.0, 'Peso': 82.0}\n",
      "{'_id': ObjectId('6297a1a1a8704dcbc3d60a2d'), 'Apodo': 'Williams', 'Nombre': 'Iñaki Williams Arthuer', 'Fecha': '15/06/1994', 'Ciudad': 'Bilbao', 'Provincia': 'Bizkaia', 'País': 'España', 'PJ': 1, 'PT': 0, 'PC': 0, 'PS': 1, 'PX': 0, 'PG': 1, 'PE': 0, 'PP': 0, 'Min': 31, 'G': 0, 'GP': 0, 'GPP': 0, 'GE': 0, 'TA': 0, 'TR': 0, 'EI': 21, 'EF': 21, 'Altura': 186.0, 'Peso': 79.0}\n",
      "{'_id': ObjectId('6297a1a1a8704dcbc3d60a30'), 'Apodo': 'Manu del Moral', 'Nombre': 'Manuel del Moral Fernández', 'Fecha': '25/02/1984', 'Ciudad': 'Jaén', 'Provincia': 'Jaén', 'País': 'España', 'PJ': 1, 'PT': 0, 'PC': 0, 'PS': 1, 'PX': 0, 'PG': 1, 'PE': 0, 'PP': 0, 'Min': 44, 'G': 0, 'GP': 0, 'GPP': 0, 'GE': 0, 'TA': 0, 'TR': 0, 'EI': 27, 'EF': 27, 'Altura': 185.0, 'Peso': 84.0}\n",
      "{'_id': ObjectId('6297a1a1a8704dcbc3d60a37'), 'Apodo': 'Canito', 'Nombre': 'José Cano López', 'Fecha': '22/04/1956', 'Ciudad': 'Llavorsí', 'Provincia': 'Lleida', 'País': 'España', 'PJ': 1, 'PT': 0, 'PC': 0, 'PS': 1, 'PX': 0, 'PG': 0, 'PE': 0, 'PP': 1, 'Min': 17, 'G': 0, 'GP': 0, 'GPP': 0, 'GE': 0, 'TA': 0, 'TR': 0, 'EI': 22, 'EF': 22, 'Altura': 185.0, 'Peso': 79.0}\n",
      "{'_id': ObjectId('6297a1a1a8704dcbc3d60a3b'), 'Apodo': 'Heriberto Herrera', 'Nombre': 'Heriberto Herrera Udrizar', 'Fecha': '24/04/1926', 'Ciudad': 'Guarambaré', 'Provincia': 'Extranjero', 'País': 'Paraguay', 'PJ': 1, 'PT': 1, 'PC': 1, 'PS': 0, 'PX': 0, 'PG': 0, 'PE': 1, 'PP': 0, 'Min': 90, 'G': 0, 'GP': 0, 'GPP': 0, 'GE': 0, 'TA': 0, 'TR': 0, 'EI': 30, 'EF': 30, 'Altura': 185.0, 'Peso': 78.0}\n",
      "{'_id': ObjectId('6297a1a1a8704dcbc3d60a3f'), 'Apodo': 'Aranzubia', 'Nombre': 'Daniel Aranzubia Aguado', 'Fecha': '18/09/1979', 'Ciudad': 'Logroño', 'Provincia': 'La Rioja', 'País': 'España', 'PJ': 1, 'PT': 0, 'PC': 0, 'PS': 1, 'PX': 0, 'PG': 1, 'PE': 0, 'PP': 0, 'Min': 29, 'G': 0, 'GP': 0, 'GPP': 0, 'GE': 0, 'TA': 0, 'TR': 0, 'EI': 24, 'EF': 24, 'Altura': 187.0, 'Peso': 85.0}\n",
      "{'_id': ObjectId('6297a1a1a8704dcbc3d60a43'), 'Apodo': 'Arizmendi', 'Nombre': 'Ángel Javier Arizmendi de Lucas', 'Fecha': '03/03/1984', 'Ciudad': 'Madrid', 'Provincia': 'Madrid', 'País': 'España', 'PJ': 1, 'PT': 0, 'PC': 0, 'PS': 1, 'PX': 0, 'PG': 1, 'PE': 0, 'PP': 0, 'Min': 26, 'G': 0, 'GP': 0, 'GPP': 0, 'GE': 0, 'TA': 0, 'TR': 0, 'EI': 22, 'EF': 22, 'Altura': 189.0, 'Peso': 76.0}\n",
      "{'_id': ObjectId('6297a1a1a8704dcbc3d60a52'), 'Apodo': 'Miranda', 'Nombre': 'Juan Miranda González', 'Fecha': '19/01/2000', 'Ciudad': 'Olivares', 'Provincia': 'Sevilla', 'País': 'España', 'PJ': 1, 'PT': 0, 'PC': 0, 'PS': 1, 'PX': 0, 'PG': 1, 'PE': 0, 'PP': 0, 'Min': 44, 'G': 1, 'GP': 0, 'GPP': 0, 'GE': 0, 'TA': 0, 'TR': 0, 'EI': 21, 'EF': 21, 'Altura': 185.0, 'Peso': 76.0}\n",
      "{'_id': ObjectId('6297a1a1a8704dcbc3d60a5c'), 'Apodo': 'Unai', 'Nombre': 'Unai Vergara Díez-Caballero', 'Fecha': '21/01/1977', 'Ciudad': 'Portugalete', 'Provincia': 'Bizkaia', 'País': 'España', 'PJ': 1, 'PT': 1, 'PC': 1, 'PS': 0, 'PX': 0, 'PG': 0, 'PE': 0, 'PP': 1, 'Min': 90, 'G': 0, 'GP': 0, 'GPP': 0, 'GE': 0, 'TA': 0, 'TR': 0, 'EI': 24, 'EF': 24, 'Altura': 190.0, 'Peso': 90.0}\n",
      "{'_id': ObjectId('6297a1a1a8704dcbc3d60a67'), 'Apodo': 'Nuñez', 'Nombre': 'Unai Nuñez Gestoso', 'Fecha': '30/01/1997', 'Ciudad': 'Portugalete', 'Provincia': 'Bizkaia', 'País': 'España', 'PJ': 1, 'PT': 0, 'PC': 0, 'PS': 1, 'PX': 0, 'PG': 1, 'PE': 0, 'PP': 0, 'Min': 6, 'G': 0, 'GP': 0, 'GPP': 0, 'GE': 0, 'TA': 0, 'TR': 0, 'EI': 22, 'EF': 22, 'Altura': 186.0, 'Peso': 81.0}\n",
      "{'_id': ObjectId('6297a1a1a8704dcbc3d60a6a'), 'Apodo': 'Luis García', 'Nombre': 'Luis García García', 'Fecha': '01/05/1964', 'Ciudad': 'Peñaranda de Bracamonte', 'Provincia': 'Salamanca', 'País': 'España', 'PJ': 1, 'PT': 0, 'PC': 0, 'PS': 1, 'PX': 0, 'PG': 0, 'PE': 1, 'PP': 0, 'Min': 17, 'G': 0, 'GP': 0, 'GPP': 0, 'GE': 0, 'TA': 0, 'TR': 0, 'EI': 23, 'EF': 23, 'Altura': 188.0, 'Peso': 76.0}\n",
      "{'_id': ObjectId('6297a1a1a8704dcbc3d60a79'), 'Apodo': 'Mata', 'Nombre': 'Jaime Mata Arnaiz', 'Fecha': '24/10/1988', 'Ciudad': 'Tres Cantos', 'Provincia': 'Madrid', 'País': 'España', 'PJ': 1, 'PT': 0, 'PC': 0, 'PS': 1, 'PX': 0, 'PG': 1, 'PE': 0, 'PP': 0, 'Min': 2, 'G': 0, 'GP': 0, 'GPP': 0, 'GE': 0, 'TA': 0, 'TR': 0, 'EI': 30, 'EF': 30, 'Altura': 185.0, 'Peso': 75.0}\n",
      "{'_id': ObjectId('6297a1a1a8704dcbc3d60a81'), 'Apodo': 'Iturraspe', 'Nombre': 'Ander Iturraspe Derteano', 'Fecha': '08/03/1989', 'Ciudad': 'Abadiño', 'Provincia': 'Bizkaia', 'País': 'España', 'PJ': 2, 'PT': 1, 'PC': 1, 'PS': 1, 'PX': 0, 'PG': 1, 'PE': 0, 'PP': 1, 'Min': 134, 'G': 0, 'GP': 0, 'GPP': 0, 'GE': 0, 'TA': 0, 'TR': 0, 'EI': 25, 'EF': 25, 'Altura': 187.0, 'Peso': 78.0}\n",
      "{'_id': ObjectId('6297a1a1a8704dcbc3d60a8e'), 'Apodo': 'Patxi Salinas', 'Nombre': 'Francisco Salinas Fernández', 'Fecha': '17/11/1963', 'Ciudad': 'Bilbao', 'Provincia': 'Bizkaia', 'País': 'España', 'PJ': 2, 'PT': 1, 'PC': 0, 'PS': 1, 'PX': 1, 'PG': 0, 'PE': 1, 'PP': 1, 'Min': 70, 'G': 0, 'GP': 0, 'GPP': 0, 'GE': 0, 'TA': 0, 'TR': 0, 'EI': 24, 'EF': 24, 'Altura': 185.0, 'Peso': 77.0}\n",
      "{'_id': ObjectId('6297a1a1a8704dcbc3d60aa5'), 'Apodo': 'Ricardo', 'Nombre': 'Ricardo López Felipe', 'Fecha': '30/12/1971', 'Ciudad': 'Madrid', 'Provincia': 'Madrid', 'País': 'España', 'PJ': 2, 'PT': 0, 'PC': 0, 'PS': 2, 'PX': 0, 'PG': 1, 'PE': 1, 'PP': 0, 'Min': 55, 'G': 0, 'GP': 0, 'GPP': 0, 'GE': 1, 'TA': 0, 'TR': 0, 'EI': 29, 'EF': 30, 'Altura': 188.0, 'Peso': 87.0}\n",
      "{'_id': ObjectId('6297a1a1a8704dcbc3d60ab1'), 'Apodo': 'Pau López', 'Nombre': 'Pau López Sabata', 'Fecha': '13/12/1994', 'Ciudad': 'Sant Gregori', 'Provincia': 'Girona', 'País': 'España', 'PJ': 2, 'PT': 1, 'PC': 1, 'PS': 1, 'PX': 0, 'PG': 2, 'PE': 0, 'PP': 0, 'Min': 106, 'G': 0, 'GP': 0, 'GPP': 0, 'GE': 0, 'TA': 0, 'TR': 0, 'EI': 23, 'EF': 24, 'Altura': 188.0, 'Peso': 72.0}\n",
      "{'_id': ObjectId('6297a1a1a8704dcbc3d60ac5'), 'Apodo': 'Mario Suárez', 'Nombre': 'Mario Suárez Mata', 'Fecha': '24/02/1987', 'Ciudad': 'Alcobendas', 'Provincia': 'Madrid', 'País': 'España', 'PJ': 3, 'PT': 2, 'PC': 1, 'PS': 1, 'PX': 1, 'PG': 2, 'PE': 0, 'PP': 1, 'Min': 179, 'G': 0, 'GP': 0, 'GPP': 0, 'GE': 0, 'TA': 1, 'TR': 0, 'EI': 25, 'EF': 28, 'Altura': 185.0, 'Peso': 80.0}\n",
      "{'_id': ObjectId('6297a1a1a8704dcbc3d60ac8'), 'Apodo': 'Domínguez', 'Nombre': 'Álvaro Domínguez Soto', 'Fecha': '16/05/1989', 'Ciudad': 'Madrid', 'Provincia': 'Madrid', 'País': 'España', 'PJ': 2, 'PT': 0, 'PC': 0, 'PS': 2, 'PX': 0, 'PG': 2, 'PE': 0, 'PP': 0, 'Min': 78, 'G': 0, 'GP': 0, 'GPP': 0, 'GE': 0, 'TA': 1, 'TR': 0, 'EI': 23, 'EF': 23, 'Altura': 189.0, 'Peso': 83.0}\n",
      "{'_id': ObjectId('6297a1a1a8704dcbc3d60ac9'), 'Apodo': 'De la Red', 'Nombre': 'Rubén de la Red Gutiérrez', 'Fecha': '05/06/1985', 'Ciudad': 'Arroyomolinos', 'Provincia': 'Madrid', 'País': 'España', 'PJ': 3, 'PT': 1, 'PC': 1, 'PS': 2, 'PX': 0, 'PG': 3, 'PE': 0, 'PP': 0, 'Min': 156, 'G': 1, 'GP': 0, 'GPP': 0, 'GE': 0, 'TA': 0, 'TR': 0, 'EI': 22, 'EF': 23, 'Altura': 186.0, 'Peso': 80.0}\n",
      "{'_id': ObjectId('6297a1a1a8704dcbc3d60ad0'), 'Apodo': 'Fernando', 'Nombre': 'Fernando Sánchez Cipitria', 'Fecha': '12/09/1971', 'Ciudad': 'Madrid', 'Provincia': 'Madrid', 'País': 'España', 'PJ': 2, 'PT': 1, 'PC': 0, 'PS': 1, 'PX': 1, 'PG': 1, 'PE': 0, 'PP': 1, 'Min': 71, 'G': 0, 'GP': 0, 'GPP': 0, 'GE': 0, 'TA': 0, 'TR': 0, 'EI': 26, 'EF': 26, 'Altura': 185.0, 'Peso': 83.0}\n",
      "{'_id': ObjectId('6297a1a1a8704dcbc3d60ada'), 'Apodo': 'García Calvo', 'Nombre': 'José Antonio García Calvo', 'Fecha': '01/04/1975', 'Ciudad': 'Madrid', 'Provincia': 'Madrid', 'País': 'España', 'PJ': 3, 'PT': 3, 'PC': 3, 'PS': 0, 'PX': 0, 'PG': 1, 'PE': 2, 'PP': 0, 'Min': 270, 'G': 0, 'GP': 0, 'GPP': 0, 'GE': 0, 'TA': 1, 'TR': 0, 'EI': 27, 'EF': 27, 'Altura': 185.0, 'Peso': 78.0}\n",
      "{'_id': ObjectId('6297a1a1a8704dcbc3d60b07'), 'Apodo': 'Iván Campo', 'Nombre': 'Iván Campo Ramos', 'Fecha': '21/02/1974', 'Ciudad': 'Donostia/San Sebastián', 'Provincia': 'Gipuzkoa', 'País': 'España', 'PJ': 4, 'PT': 3, 'PC': 2, 'PS': 1, 'PX': 1, 'PG': 2, 'PE': 0, 'PP': 2, 'Min': 299, 'G': 0, 'GP': 0, 'GPP': 0, 'GE': 0, 'TA': 1, 'TR': 0, 'EI': 24, 'EF': 26, 'Altura': 185.0, 'Peso': 81.0}\n",
      "{'_id': ObjectId('6297a1a1a8704dcbc3d60b12'), 'Apodo': 'Téllez', 'Nombre': 'Óscar Téllez Gómez', 'Fecha': '02/04/1975', 'Ciudad': 'Madrid', 'Provincia': 'Madrid', 'País': 'España', 'PJ': 4, 'PT': 1, 'PC': 1, 'PS': 3, 'PX': 0, 'PG': 3, 'PE': 1, 'PP': 0, 'Min': 203, 'G': 0, 'GP': 0, 'GPP': 0, 'GE': 0, 'TA': 0, 'TR': 0, 'EI': 26, 'EF': 26, 'Altura': 186.0, 'Peso': 84.0}\n",
      "{'_id': ObjectId('6297a1a1a8704dcbc3d60b13'), 'Apodo': 'Arteche', 'Nombre': 'Juan Carlos Arteche Gómez', 'Fecha': '11/04/1957', 'Ciudad': 'Maliaño', 'Provincia': 'Cantabria', 'País': 'España', 'PJ': 4, 'PT': 4, 'PC': 4, 'PS': 0, 'PX': 0, 'PG': 2, 'PE': 1, 'PP': 1, 'Min': 360, 'G': 1, 'GP': 0, 'GPP': 0, 'GE': 0, 'TA': 1, 'TR': 0, 'EI': 29, 'EF': 29, 'Altura': 188.0, 'Peso': 84.0}\n",
      "{'_id': ObjectId('6297a1a1a8704dcbc3d60b15'), 'Apodo': 'Brais Méndez', 'Nombre': 'Brais Méndez Portela', 'Fecha': '07/01/1997', 'Ciudad': 'Mos', 'Provincia': 'Pontevedra', 'País': 'España', 'PJ': 4, 'PT': 0, 'PC': 0, 'PS': 4, 'PX': 0, 'PG': 3, 'PE': 0, 'PP': 1, 'Min': 54, 'G': 1, 'GP': 0, 'GPP': 0, 'GE': 0, 'TA': 1, 'TR': 0, 'EI': 21, 'EF': 24, 'Altura': 187.0, 'Peso': 76.0}\n",
      "{'_id': ObjectId('6297a1a1a8704dcbc3d60b1b'), 'Apodo': 'Aldana', 'Nombre': 'Adolfo Aldana Torres', 'Fecha': '05/01/1966', 'Ciudad': 'San Roque', 'Provincia': 'Cádiz', 'País': 'España', 'PJ': 4, 'PT': 3, 'PC': 2, 'PS': 1, 'PX': 1, 'PG': 3, 'PE': 0, 'PP': 1, 'Min': 258, 'G': 1, 'GP': 0, 'GPP': 0, 'GE': 0, 'TA': 0, 'TR': 0, 'EI': 27, 'EF': 28, 'Altura': 188.0, 'Peso': 84.0}\n",
      "{'_id': ObjectId('6297a1a1a8704dcbc3d60b34'), 'Apodo': 'Marcelino', 'Nombre': 'Marcelino Elena Sierra', 'Fecha': '26/09/1971', 'Ciudad': 'Gijón', 'Provincia': 'Asturias', 'País': 'España', 'PJ': 5, 'PT': 5, 'PC': 5, 'PS': 0, 'PX': 0, 'PG': 4, 'PE': 1, 'PP': 0, 'Min': 450, 'G': 0, 'GP': 0, 'GPP': 0, 'GE': 0, 'TA': 1, 'TR': 0, 'EI': 27, 'EF': 27, 'Altura': 188.0, 'Peso': 84.0}\n",
      "{'_id': ObjectId('6297a1a1a8704dcbc3d60b3b'), 'Apodo': 'Roberto Martínez', 'Nombre': 'Roberto Juan Martínez Martínez', 'Fecha': '25/09/1945', 'Ciudad': 'Mendoza', 'Provincia': 'Extranjero', 'País': 'Argentina', 'PJ': 5, 'PT': 4, 'PC': 3, 'PS': 1, 'PX': 1, 'PG': 4, 'PE': 1, 'PP': 0, 'Min': 356, 'G': 2, 'GP': 0, 'GPP': 0, 'GE': 0, 'TA': 0, 'TR': 0, 'EI': 27, 'EF': 29, 'Altura': 187.0, 'Peso': 83.0}\n",
      "{'_id': ObjectId('6297a1a1a8704dcbc3d60b4a'), 'Apodo': 'Gerard', 'Nombre': 'Gerard López Segú', 'Fecha': '12/03/1979', 'Ciudad': 'Granollers', 'Provincia': 'Barcelona', 'País': 'España', 'PJ': 6, 'PT': 3, 'PC': 0, 'PS': 3, 'PX': 3, 'PG': 3, 'PE': 1, 'PP': 2, 'Min': 250, 'G': 2, 'GP': 0, 'GPP': 0, 'GE': 0, 'TA': 0, 'TR': 0, 'EI': 21, 'EF': 21, 'Altura': 185.0, 'Peso': 77.0}\n",
      "{'_id': ObjectId('6297a1a1a8704dcbc3d60b60'), 'Apodo': 'Marcos Alonso', 'Nombre': 'Marcos Alonso Mendoza', 'Fecha': '28/12/1990', 'Ciudad': 'Madrid', 'Provincia': 'Madrid', 'País': 'España', 'PJ': 7, 'PT': 5, 'PC': 3, 'PS': 2, 'PX': 2, 'PG': 5, 'PE': 0, 'PP': 2, 'Min': 463, 'G': 0, 'GP': 0, 'GPP': 0, 'GE': 0, 'TA': 0, 'TR': 0, 'EI': 27, 'EF': 30, 'Altura': 189.0, 'Peso': 85.0}\n",
      "{'_id': ObjectId('6297a1a1a8704dcbc3d60b6a'), 'Apodo': 'San José', 'Nombre': 'Mikel San José Domínguez', 'Fecha': '30/05/1989', 'Ciudad': 'Villava', 'Provincia': 'Navarra', 'País': 'España', 'PJ': 7, 'PT': 5, 'PC': 3, 'PS': 2, 'PX': 2, 'PG': 3, 'PE': 1, 'PP': 3, 'Min': 493, 'G': 0, 'GP': 0, 'GPP': 0, 'GE': 0, 'TA': 2, 'TR': 0, 'EI': 25, 'EF': 27, 'Altura': 188.0, 'Peso': 78.0}\n",
      "{'_id': ObjectId('6297a1a1a8704dcbc3d60b71'), 'Apodo': 'Llorente', 'Nombre': 'Diego Javier Llorente Ríos', 'Fecha': '16/08/1993', 'Ciudad': 'Madrid', 'Provincia': 'Madrid', 'País': 'España', 'PJ': 8, 'PT': 4, 'PC': 2, 'PS': 4, 'PX': 1, 'PG': 6, 'PE': 2, 'PP': 0, 'Min': 395, 'G': 0, 'GP': 0, 'GPP': 0, 'GE': 0, 'TA': 1, 'TR': 1, 'EI': 22, 'EF': 27, 'Altura': 186.0, 'Peso': 75.0}\n",
      "{'_id': ObjectId('6297a1a1a8704dcbc3d60b72'), 'Apodo': 'Nando', 'Nombre': 'Fernando Muñoz García', 'Fecha': '30/10/1967', 'Ciudad': 'Sevilla', 'Provincia': 'Sevilla', 'País': 'España', 'PJ': 8, 'PT': 7, 'PC': 6, 'PS': 1, 'PX': 1, 'PG': 3, 'PE': 1, 'PP': 4, 'Min': 630, 'G': 0, 'GP': 0, 'GPP': 0, 'GE': 0, 'TA': 2, 'TR': 0, 'EI': 22, 'EF': 24, 'Altura': 187.0, 'Peso': 84.0}\n",
      "{'_id': ObjectId('6297a1a1a8704dcbc3d60b80'), 'Apodo': 'Molina', 'Nombre': 'José Francisco Molina Jiménez', 'Fecha': '08/08/1970', 'Ciudad': 'València', 'Provincia': 'Valencia', 'País': 'España', 'PJ': 9, 'PT': 7, 'PC': 4, 'PS': 2, 'PX': 3, 'PG': 3, 'PE': 4, 'PP': 2, 'Min': 583, 'G': 0, 'GP': 0, 'GPP': 0, 'GE': 3, 'TA': 1, 'TR': 0, 'EI': 25, 'EF': 29, 'Altura': 185.0, 'Peso': 89.0}\n",
      "{'_id': ObjectId('6297a1a1a8704dcbc3d60b95'), 'Apodo': 'Kepa', 'Nombre': 'Kepa Arrizabalaga Revuelta', 'Fecha': '03/10/1994', 'Ciudad': 'Ondarroa', 'Provincia': 'Bizkaia', 'País': 'España', 'PJ': 11, 'PT': 9, 'PC': 8, 'PS': 2, 'PX': 1, 'PG': 8, 'PE': 3, 'PP': 0, 'Min': 868, 'G': 0, 'GP': 0, 'GPP': 0, 'GE': 4, 'TA': 2, 'TR': 0, 'EI': 23, 'EF': 26, 'Altura': 186.0, 'Peso': 89.0}\n",
      "{'_id': ObjectId('6297a1a1a8704dcbc3d60b97'), 'Apodo': 'Merino', 'Nombre': 'Mikel Merino Zazón', 'Fecha': '22/06/1996', 'Ciudad': 'Pamplona', 'Provincia': 'Navarra', 'País': 'España', 'PJ': 11, 'PT': 4, 'PC': 2, 'PS': 7, 'PX': 2, 'PG': 6, 'PE': 3, 'PP': 2, 'Min': 456, 'G': 0, 'GP': 0, 'GPP': 0, 'GE': 0, 'TA': 1, 'TR': 0, 'EI': 24, 'EF': 25, 'Altura': 189.0, 'Peso': 83.0}\n",
      "{'_id': ObjectId('6297a1a1a8704dcbc3d60ba2'), 'Apodo': 'Vitolo', 'Nombre': 'Víctor Machín Pérez', 'Fecha': '02/11/1989', 'Ciudad': 'Las Palmas de Gran Canaria', 'Provincia': 'Las Palmas', 'País': 'España', 'PJ': 12, 'PT': 7, 'PC': 0, 'PS': 5, 'PX': 7, 'PG': 7, 'PE': 4, 'PP': 1, 'Min': 674, 'G': 4, 'GP': 0, 'GPP': 0, 'GE': 0, 'TA': 2, 'TR': 0, 'EI': 25, 'EF': 28, 'Altura': 185.0, 'Peso': 80.0}\n",
      "{'_id': ObjectId('6297a1a1a8704dcbc3d60ba4'), 'Apodo': 'López', 'Nombre': 'Juan Manuel López Martínez', 'Fecha': '03/09/1969', 'Ciudad': 'Madrid', 'Provincia': 'Madrid', 'País': 'España', 'PJ': 11, 'PT': 7, 'PC': 6, 'PS': 4, 'PX': 1, 'PG': 2, 'PE': 9, 'PP': 0, 'Min': 748, 'G': 0, 'GP': 0, 'GPP': 1, 'GE': 0, 'TA': 2, 'TR': 1, 'EI': 23, 'EF': 27, 'Altura': 186.0, 'Peso': 79.0}\n",
      "{'_id': ObjectId('6297a1a1a8704dcbc3d60ba6'), 'Apodo': 'César', 'Nombre': 'César Martín Villar', 'Fecha': '03/04/1977', 'Ciudad': 'Oviedo', 'Provincia': 'Asturias', 'País': 'España', 'PJ': 12, 'PT': 6, 'PC': 5, 'PS': 6, 'PX': 1, 'PG': 9, 'PE': 2, 'PP': 1, 'Min': 723, 'G': 3, 'GP': 0, 'GPP': 0, 'GE': 0, 'TA': 1, 'TR': 0, 'EI': 22, 'EF': 27, 'Altura': 185.0, 'Peso': 81.0}\n",
      "{'_id': ObjectId('6297a1a1a8704dcbc3d60bd0'), 'Apodo': 'Fabián', 'Nombre': 'Fabián Ruiz Peña', 'Fecha': '03/04/1996', 'Ciudad': 'Los Palacios y Villafranca', 'Provincia': 'Sevilla', 'País': 'España', 'PJ': 15, 'PT': 9, 'PC': 5, 'PS': 6, 'PX': 4, 'PG': 8, 'PE': 7, 'PP': 0, 'Min': 900, 'G': 1, 'GP': 0, 'GPP': 0, 'GE': 0, 'TA': 2, 'TR': 0, 'EI': 25, 'EF': 25, 'Altura': 189.0, 'Peso': 70.0}\n",
      "{'_id': ObjectId('6297a1a1a8704dcbc3d60bd3'), 'Apodo': 'Diego Tristán', 'Nombre': 'Diego Tristán Herrera', 'Fecha': '05/01/1976', 'Ciudad': 'La Algaba', 'Provincia': 'Sevilla', 'País': 'España', 'PJ': 15, 'PT': 7, 'PC': 2, 'PS': 8, 'PX': 5, 'PG': 10, 'PE': 4, 'PP': 1, 'Min': 770, 'G': 4, 'GP': 0, 'GPP': 0, 'GE': 0, 'TA': 0, 'TR': 0, 'EI': 25, 'EF': 27, 'Altura': 186.0, 'Peso': 79.0}\n",
      "{'_id': ObjectId('6297a1a1a8704dcbc3d60bdc'), 'Apodo': 'Riera', 'Nombre': 'Albert Riera Ortega', 'Fecha': '15/04/1982', 'Ciudad': 'Manacor', 'Provincia': 'Islas Baleares', 'País': 'España', 'PJ': 16, 'PT': 10, 'PC': 7, 'PS': 6, 'PX': 3, 'PG': 14, 'PE': 1, 'PP': 1, 'Min': 1019, 'G': 4, 'GP': 0, 'GPP': 0, 'GE': 0, 'TA': 0, 'TR': 0, 'EI': 25, 'EF': 27, 'Altura': 187.0, 'Peso': 77.0}\n",
      "{'_id': ObjectId('6297a1a1a8704dcbc3d60bf1'), 'Apodo': 'Javi Martínez', 'Nombre': 'Javier Martínez Aginaga', 'Fecha': '02/09/1988', 'Ciudad': 'Aiegi', 'Provincia': 'Navarra', 'País': 'España', 'PJ': 18, 'PT': 12, 'PC': 11, 'PS': 6, 'PX': 1, 'PG': 15, 'PE': 1, 'PP': 2, 'Min': 1187, 'G': 0, 'GP': 0, 'GPP': 0, 'GE': 0, 'TA': 3, 'TR': 0, 'EI': 21, 'EF': 25, 'Altura': 190.0, 'Peso': 86.0}\n",
      "{'_id': ObjectId('6297a1a1a8704dcbc3d60bff'), 'Apodo': 'Negredo', 'Nombre': 'Álvaro Negredo Sánchez', 'Fecha': '20/08/1985', 'Ciudad': 'Madrid', 'Provincia': 'Madrid', 'País': 'España', 'PJ': 21, 'PT': 10, 'PC': 2, 'PS': 11, 'PX': 8, 'PG': 17, 'PE': 3, 'PP': 1, 'Min': 873, 'G': 10, 'GP': 0, 'GPP': 0, 'GE': 0, 'TA': 0, 'TR': 0, 'EI': 24, 'EF': 28, 'Altura': 185.0, 'Peso': 82.0}\n",
      "{'_id': ObjectId('6297a1a1a8704dcbc3d60c04'), 'Apodo': 'Caminero', 'Nombre': 'José Luis Pérez Caminero', 'Fecha': '08/11/1967', 'Ciudad': 'Madrid', 'Provincia': 'Madrid', 'País': 'España', 'PJ': 21, 'PT': 15, 'PC': 9, 'PS': 6, 'PX': 6, 'PG': 13, 'PE': 7, 'PP': 1, 'Min': 1359, 'G': 8, 'GP': 0, 'GPP': 0, 'GE': 0, 'TA': 4, 'TR': 0, 'EI': 25, 'EF': 28, 'Altura': 187.0, 'Peso': 86.0}\n",
      "{'_id': ObjectId('6297a1a1a8704dcbc3d60c05'), 'Apodo': 'Unai Simón', 'Nombre': 'Unai Simón Mendibil', 'Fecha': '11/06/1997', 'Ciudad': 'Murgia', 'Provincia': 'Araba/Álava', 'País': 'España', 'PJ': 21, 'PT': 21, 'PC': 20, 'PS': 0, 'PX': 1, 'PG': 11, 'PE': 8, 'PP': 2, 'Min': 1964, 'G': 0, 'GP': 0, 'GPP': 0, 'GE': 16, 'TA': 0, 'TR': 0, 'EI': 24, 'EF': 23, 'Altura': 190.0, 'Peso': 88.0}\n",
      "{'_id': ObjectId('6297a1a1a8704dcbc3d60c13'), 'Apodo': 'Diego Costa', 'Nombre': 'Diego da Silva Costa', 'Fecha': '07/10/1988', 'Ciudad': 'Lagarto', 'Provincia': 'Extranjero', 'País': 'Brasil', 'PJ': 24, 'PT': 21, 'PC': 5, 'PS': 3, 'PX': 16, 'PG': 14, 'PE': 6, 'PP': 4, 'Min': 1678, 'G': 10, 'GP': 0, 'GPP': 0, 'GE': 0, 'TA': 4, 'TR': 0, 'EI': 25, 'EF': 29, 'Altura': 188.0, 'Peso': 86.0}\n",
      "{'_id': ObjectId('6297a1a1a8704dcbc3d60c1a'), 'Apodo': 'Urzaiz', 'Nombre': 'Ismael Urzaiz Aranda', 'Fecha': '07/10/1971', 'Ciudad': 'Tudela', 'Provincia': 'Navarra', 'País': 'España', 'PJ': 25, 'PT': 15, 'PC': 2, 'PS': 10, 'PX': 13, 'PG': 14, 'PE': 6, 'PP': 5, 'Min': 1212, 'G': 8, 'GP': 0, 'GPP': 0, 'GE': 0, 'TA': 0, 'TR': 0, 'EI': 25, 'EF': 29, 'Altura': 188.0, 'Peso': 88.0}\n",
      "{'_id': ObjectId('6297a1a1a8704dcbc3d60c1c'), 'Apodo': 'Kiko', 'Nombre': 'Francisco Miguel Narváez Machón', 'Fecha': '26/04/1972', 'Ciudad': 'Jerez de la Frontera', 'Provincia': 'Cádiz', 'País': 'España', 'PJ': 26, 'PT': 14, 'PC': 5, 'PS': 12, 'PX': 9, 'PG': 17, 'PE': 7, 'PP': 2, 'Min': 1578, 'G': 4, 'GP': 0, 'GPP': 0, 'GE': 0, 'TA': 3, 'TR': 0, 'EI': 20, 'EF': 26, 'Altura': 189.0, 'Peso': 88.0}\n",
      "{'_id': ObjectId('6297a1a1a8704dcbc3d60c1e'), 'Apodo': 'Pizzi', 'Nombre': 'Juan Antonio Pizzi Torroja', 'Fecha': '07/06/1968', 'Ciudad': 'Santa Fe', 'Provincia': 'Extranjero', 'País': 'Argentina', 'PJ': 22, 'PT': 17, 'PC': 5, 'PS': 5, 'PX': 11, 'PG': 13, 'PE': 8, 'PP': 1, 'Min': 1268, 'G': 8, 'GP': 0, 'GPP': 0, 'GE': 0, 'TA': 1, 'TR': 1, 'EI': 26, 'EF': 30, 'Altura': 185.0, 'Peso': 84.0}\n",
      "{'_id': ObjectId('6297a1a1a8704dcbc3d60c23'), 'Apodo': 'Tendillo', 'Nombre': 'Miguel Tendillo Belenguer', 'Fecha': '01/02/1961', 'Ciudad': 'Moncada', 'Provincia': 'Valencia', 'País': 'España', 'PJ': 27, 'PT': 25, 'PC': 22, 'PS': 2, 'PX': 3, 'PG': 9, 'PE': 10, 'PP': 8, 'Min': 2302, 'G': 1, 'GP': 0, 'GPP': 0, 'GE': 0, 'TA': 1, 'TR': 0, 'EI': 19, 'EF': 27, 'Altura': 185.0, 'Peso': 77.0}\n",
      "{'_id': ObjectId('6297a1a1a8704dcbc3d60c2a'), 'Apodo': 'Aranzábal', 'Nombre': 'Agustín Aranzábal Alkorta', 'Fecha': '15/03/1973', 'Ciudad': 'Donostia/San Sebastián', 'Provincia': 'Gipuzkoa', 'País': 'España', 'PJ': 28, 'PT': 23, 'PC': 20, 'PS': 5, 'PX': 3, 'PG': 20, 'PE': 5, 'PP': 3, 'Min': 2116, 'G': 0, 'GP': 0, 'GPP': 0, 'GE': 0, 'TA': 0, 'TR': 0, 'EI': 22, 'EF': 30, 'Altura': 186.0, 'Peso': 78.0}\n",
      "{'_id': ObjectId('6297a1a1a8704dcbc3d60c2f'), 'Apodo': 'Rodri', 'Nombre': 'Rodrigo Hernández Cascante', 'Fecha': '22/06/1996', 'Ciudad': 'Madrid', 'Provincia': 'Madrid', 'País': 'España', 'PJ': 31, 'PT': 18, 'PC': 15, 'PS': 13, 'PX': 3, 'PG': 17, 'PE': 11, 'PP': 3, 'Min': 1771, 'G': 1, 'GP': 0, 'GPP': 0, 'GE': 0, 'TA': 3, 'TR': 0, 'EI': 21, 'EF': 24, 'Altura': 190.0, 'Peso': 83.0}\n",
      "{'_id': ObjectId('6297a1a1a8704dcbc3d60c3a'), 'Apodo': 'Reina', 'Nombre': 'José Manuel Reina Páez', 'Fecha': '31/08/1982', 'Ciudad': 'Madrid', 'Provincia': 'Madrid', 'País': 'España', 'PJ': 36, 'PT': 25, 'PC': 18, 'PS': 11, 'PX': 7, 'PG': 28, 'PE': 5, 'PP': 3, 'Min': 2415, 'G': 0, 'GP': 0, 'GPP': 0, 'GE': 21, 'TA': 0, 'TR': 0, 'EI': 22, 'EF': 35, 'Altura': 188.0, 'Peso': 92.0}\n",
      "{'_id': ObjectId('6297a1a1a8704dcbc3d60c41'), 'Apodo': 'Maceda', 'Nombre': 'Antonio Maceda Francés', 'Fecha': '16/05/1957', 'Ciudad': 'Sagunt', 'Provincia': 'Valencia', 'País': 'España', 'PJ': 36, 'PT': 34, 'PC': 32, 'PS': 2, 'PX': 2, 'PG': 19, 'PE': 10, 'PP': 7, 'Min': 3026, 'G': 8, 'GP': 0, 'GPP': 0, 'GE': 0, 'TA': 4, 'TR': 0, 'EI': 23, 'EF': 29, 'Altura': 189.0, 'Peso': 85.0}\n",
      "{'_id': ObjectId('6297a1a1a8704dcbc3d60c50'), 'Apodo': 'Iván Helguera', 'Nombre': 'Iván Helguera Bujía', 'Fecha': '28/03/1975', 'Ciudad': 'Santander', 'Provincia': 'Cantabria', 'País': 'España', 'PJ': 47, 'PT': 32, 'PC': 22, 'PS': 15, 'PX': 10, 'PG': 29, 'PE': 12, 'PP': 6, 'Min': 2988, 'G': 3, 'GP': 0, 'GPP': 0, 'GE': 0, 'TA': 7, 'TR': 0, 'EI': 23, 'EF': 29, 'Altura': 185.0, 'Peso': 73.0}\n",
      "{'_id': ObjectId('6297a1a1a8704dcbc3d60c59'), 'Apodo': 'Morata', 'Nombre': 'Álvaro Borja Morata Martín', 'Fecha': '23/10/1992', 'Ciudad': 'Madrid', 'Provincia': 'Madrid', 'País': 'España', 'PJ': 52, 'PT': 38, 'PC': 12, 'PS': 14, 'PX': 26, 'PG': 32, 'PE': 13, 'PP': 7, 'Min': 3188, 'G': 25, 'GP': 2, 'GPP': 0, 'GE': 0, 'TA': 3, 'TR': 0, 'EI': 22, 'EF': 28, 'Altura': 190.0, 'Peso': 84.0}\n",
      "{'_id': ObjectId('6297a1a1a8704dcbc3d60c5d'), 'Apodo': 'Julio Salinas', 'Nombre': 'Julio Salinas Fernández', 'Fecha': '11/09/1962', 'Ciudad': 'Bilbao', 'Provincia': 'Bizkaia', 'País': 'España', 'PJ': 56, 'PT': 40, 'PC': 14, 'PS': 16, 'PX': 26, 'PG': 29, 'PE': 17, 'PP': 10, 'Min': 3206, 'G': 22, 'GP': 0, 'GPP': 0, 'GE': 0, 'TA': 4, 'TR': 0, 'EI': 23, 'EF': 33, 'Altura': 188.0, 'Peso': 80.0}\n",
      "{'_id': ObjectId('6297a1a1a8704dcbc3d60c71'), 'Apodo': 'Nadal', 'Nombre': 'Miquel Àngel Nadal Homar', 'Fecha': '28/07/1966', 'Ciudad': 'Manacor', 'Provincia': 'Islas Baleares', 'País': 'España', 'PJ': 62, 'PT': 56, 'PC': 45, 'PS': 6, 'PX': 9, 'PG': 39, 'PE': 15, 'PP': 8, 'Min': 4906, 'G': 3, 'GP': 0, 'GPP': 0, 'GE': 0, 'TA': 5, 'TR': 2, 'EI': 25, 'EF': 35, 'Altura': 187.0, 'Peso': 83.0}\n",
      "{'_id': ObjectId('6297a1a1a8704dcbc3d60c72'), 'Apodo': 'Albiol', 'Nombre': 'Raúl Albiol Tortajada', 'Fecha': '04/09/1985', 'Ciudad': 'València', 'Provincia': 'Valencia', 'País': 'España', 'PJ': 58, 'PT': 46, 'PC': 43, 'PS': 12, 'PX': 3, 'PG': 50, 'PE': 3, 'PP': 5, 'Min': 4548, 'G': 0, 'GP': 0, 'GPP': 0, 'GE': 0, 'TA': 3, 'TR': 0, 'EI': 22, 'EF': 36, 'Altura': 187.0, 'Peso': 74.0}\n",
      "{'_id': ObjectId('6297a1a1a8704dcbc3d60c75'), 'Apodo': 'Hierro', 'Nombre': 'Fernando Ruiz Hierro', 'Fecha': '23/03/1968', 'Ciudad': 'Vélez-Málaga', 'Provincia': 'Málaga', 'País': 'España', 'PJ': 89, 'PT': 81, 'PC': 63, 'PS': 8, 'PX': 17, 'PG': 52, 'PE': 28, 'PP': 9, 'Min': 7020, 'G': 29, 'GP': 11, 'GPP': 1, 'GE': 0, 'TA': 12, 'TR': 1, 'EI': 21, 'EF': 34, 'Altura': 187.0, 'Peso': 84.0}\n",
      "{'_id': ObjectId('6297a1a1a8704dcbc3d60c7a'), 'Apodo': 'Fernando Torres', 'Nombre': 'Fernando José Torres Sanz', 'Fecha': '20/03/1984', 'Ciudad': 'Fuenlabrada', 'Provincia': 'Madrid', 'País': 'España', 'PJ': 110, 'PT': 75, 'PC': 21, 'PS': 35, 'PX': 54, 'PG': 82, 'PE': 16, 'PP': 12, 'Min': 6052, 'G': 38, 'GP': 5, 'GPP': 0, 'GE': 0, 'TA': 4, 'TR': 0, 'EI': 19, 'EF': 30, 'Altura': 186.0, 'Peso': 78.0}\n",
      "{'_id': ObjectId('6297a1a1a8704dcbc3d60c7e'), 'Apodo': 'Zubizarreta', 'Nombre': 'Andoni Zubizarreta Urreta', 'Fecha': '23/10/1961', 'Ciudad': 'Vitoria-Gasteiz', 'Provincia': 'Araba/Álava', 'País': 'España', 'PJ': 126, 'PT': 125, 'PC': 106, 'PS': 1, 'PX': 18, 'PG': 70, 'PE': 33, 'PP': 23, 'Min': 10804, 'G': 0, 'GP': 0, 'GPP': 1, 'GE': 100, 'TA': 2, 'TR': 1, 'EI': 23, 'EF': 36, 'Altura': 187.0, 'Peso': 86.0}\n",
      "{'_id': ObjectId('6297a1a1a8704dcbc3d60c7f'), 'Apodo': 'Busquets', 'Nombre': 'Sergio Busquets Burgos', 'Fecha': '16/07/1988', 'Ciudad': 'Sabadell', 'Provincia': 'Barcelona', 'País': 'España', 'PJ': 133, 'PT': 119, 'PC': 89, 'PS': 14, 'PX': 30, 'PG': 94, 'PE': 20, 'PP': 19, 'Min': 10570, 'G': 2, 'GP': 0, 'GPP': 0, 'GE': 0, 'TA': 23, 'TR': 0, 'EI': 20, 'EF': 32, 'Altura': 189.0, 'Peso': 76.0}\n"
     ]
    }
   ],
   "source": [
    "#Consulta jugadors més alts o igual a 1.85 metres i menors o iguals a 1.90 metres\n",
    "myquery = { \"Altura\": { \"$gte\": 185.0, \"$lte\": 190.0 } }\n",
    "\n",
    "mydoc = mycol.find(myquery)\n",
    "\n",
    "for x in mydoc:\n",
    "  print(x) "
   ]
  },
  {
   "cell_type": "code",
   "execution_count": 12,
   "id": "5b4a3974",
   "metadata": {},
   "outputs": [
    {
     "name": "stdout",
     "output_type": "stream",
     "text": [
      "                        _id             Apodo                       Nombre  \\\n",
      "0  6297a1a1a8704dcbc3d609f9           Etxeita  Xabier Etxeita Gorritxategi   \n",
      "1  6297a1a1a8704dcbc3d609fb  Álvaro Fernández    Álvaro Fernández Llorente   \n",
      "2  6297a1a1a8704dcbc3d60a00         Lopetegui         Julen Lopetegi Agote   \n",
      "3  6297a1a1a8704dcbc3d60a1a             César      César Sánchez Domínguez   \n",
      "4  6297a1a1a8704dcbc3d60a2d          Williams       Iñaki Williams Arthuer   \n",
      "\n",
      "        Fecha             Ciudad Provincia    País  PJ  PT  PC  ...  G  GP  \\\n",
      "0  31/10/1987  Amorebieta-Etxano   Bizkaia  España   1   1   1  ...  0   0   \n",
      "1  13/04/1998             Arnedo  La Rioja  España   1   1   0  ...  0   0   \n",
      "2  28/08/1966            Asteasu  Gipuzkoa  España   1   0   0  ...  0   0   \n",
      "3  02/09/1971              Coria   Cáceres  España   1   1   1  ...  0   0   \n",
      "4  15/06/1994             Bilbao   Bizkaia  España   1   0   0  ...  0   0   \n",
      "\n",
      "   GPP  GE  TA  TR  EI  EF  Altura  Peso  \n",
      "0    0   0   0   0  27  27   186.0  80.0  \n",
      "1    0   0   0   0  23  23   186.0  80.0  \n",
      "2    0   0   0   0  27  27   185.0  84.0  \n",
      "3    0   4   0   0  28  28   185.0  82.0  \n",
      "4    0   0   0   0  21  21   186.0  79.0  \n",
      "\n",
      "[5 rows x 26 columns]\n",
      "<class 'pandas.core.frame.DataFrame'>\n",
      "RangeIndex: 67 entries, 0 to 66\n",
      "Data columns (total 26 columns):\n",
      " #   Column     Non-Null Count  Dtype  \n",
      "---  ------     --------------  -----  \n",
      " 0   _id        67 non-null     object \n",
      " 1   Apodo      67 non-null     object \n",
      " 2   Nombre     67 non-null     object \n",
      " 3   Fecha      67 non-null     object \n",
      " 4   Ciudad     67 non-null     object \n",
      " 5   Provincia  67 non-null     object \n",
      " 6   País       67 non-null     object \n",
      " 7   PJ         67 non-null     int64  \n",
      " 8   PT         67 non-null     int64  \n",
      " 9   PC         67 non-null     int64  \n",
      " 10  PS         67 non-null     int64  \n",
      " 11  PX         67 non-null     int64  \n",
      " 12  PG         67 non-null     int64  \n",
      " 13  PE         67 non-null     int64  \n",
      " 14  PP         67 non-null     int64  \n",
      " 15  Min        67 non-null     int64  \n",
      " 16  G          67 non-null     int64  \n",
      " 17  GP         67 non-null     int64  \n",
      " 18  GPP        67 non-null     int64  \n",
      " 19  GE         67 non-null     int64  \n",
      " 20  TA         67 non-null     int64  \n",
      " 21  TR         67 non-null     int64  \n",
      " 22  EI         67 non-null     int64  \n",
      " 23  EF         67 non-null     int64  \n",
      " 24  Altura     67 non-null     float64\n",
      " 25  Peso       67 non-null     float64\n",
      "dtypes: float64(2), int64(17), object(7)\n",
      "memory usage: 13.7+ KB\n",
      "None\n"
     ]
    }
   ],
   "source": [
    "#Conversió a Pandas Dataframe\n",
    "df_filtre_altura = pd.DataFrame(list(mycol.find(myquery)))\n",
    "print(df_filtre_altura.head())\n",
    "print(df_filtre_altura.info())\n",
    "\n",
    "#df_filtre_sabadell = pd.DataFrame(list(mycol.find(myquery)))"
   ]
  },
  {
   "cell_type": "markdown",
   "id": "ce8a8cb4",
   "metadata": {},
   "source": [
    "## Exercici 4. Genera un resum estadístic de la informació que conté la base de dades."
   ]
  },
  {
   "cell_type": "markdown",
   "id": "8828ce52",
   "metadata": {},
   "source": [
    "**Passem tot el query a Pandas Dataframe.** Es podria fer un drop de la columna \\_id, però la deixarem per veure com MongoDB afegeix l'índex de forma automàtica. Després resumim estadísticament els camps de la base de dades que hem convertit en dataframe."
   ]
  },
  {
   "cell_type": "code",
   "execution_count": 13,
   "id": "3bc01074",
   "metadata": {},
   "outputs": [],
   "source": [
    "collection = mydb.jugadors\n",
    "df = pd.DataFrame(list(collection.find()))"
   ]
  },
  {
   "cell_type": "code",
   "execution_count": 14,
   "id": "1e26df32",
   "metadata": {},
   "outputs": [
    {
     "name": "stdout",
     "output_type": "stream",
     "text": [
      "                        _id           Apodo                       Nombre  \\\n",
      "0  6297a1a1a8704dcbc3d609f5          Piquer          Vicente Piquer Mora   \n",
      "1  6297a1a1a8704dcbc3d609f6         Casilla     Francisco Casilla Cortés   \n",
      "2  6297a1a1a8704dcbc3d609f7       Planas II           Javier Planas Abad   \n",
      "3  6297a1a1a8704dcbc3d609f8  Josep Martínez         Josep Martínez Riera   \n",
      "4  6297a1a1a8704dcbc3d609f9         Etxeita  Xabier Etxeita Gorritxategi   \n",
      "\n",
      "        Fecha             Ciudad  Provincia    País  PJ  PT  PC  ...  G  GP  \\\n",
      "0  24/02/1935  Algar de Palancia   Valencia  España   1   1   1  ...  0   0   \n",
      "1  02/10/1986            Alcover  Tarragona  España   1   0   0  ...  0   0   \n",
      "2  03/07/1949          Almudévar     Huesca  España   1   1   1  ...  0   0   \n",
      "3  27/05/1998             Alzira   Valencia  España   1   0   0  ...  0   0   \n",
      "4  31/10/1987  Amorebieta-Etxano    Bizkaia  España   1   1   1  ...  0   0   \n",
      "\n",
      "   GPP  GE  TA  TR  EI  EF  Altura  Peso  \n",
      "0    0   0   0   0  26  26   173.0  71.0  \n",
      "1    0   1   0   0  28  28   192.0  83.0  \n",
      "2    0   0   1   0  25  25   174.0  74.0  \n",
      "3    0   0   0   0  23  23   191.0  78.0  \n",
      "4    0   0   0   0  27  27   186.0  80.0  \n",
      "\n",
      "[5 rows x 26 columns]\n"
     ]
    }
   ],
   "source": [
    "print(df.head())"
   ]
  },
  {
   "cell_type": "code",
   "execution_count": 15,
   "id": "ee064514",
   "metadata": {},
   "outputs": [
    {
     "name": "stdout",
     "output_type": "stream",
     "text": [
      "<class 'pandas.core.frame.DataFrame'>\n",
      "RangeIndex: 654 entries, 0 to 653\n",
      "Data columns (total 26 columns):\n",
      " #   Column     Non-Null Count  Dtype  \n",
      "---  ------     --------------  -----  \n",
      " 0   _id        654 non-null    object \n",
      " 1   Apodo      654 non-null    object \n",
      " 2   Nombre     654 non-null    object \n",
      " 3   Fecha      654 non-null    object \n",
      " 4   Ciudad     654 non-null    object \n",
      " 5   Provincia  654 non-null    object \n",
      " 6   País       654 non-null    object \n",
      " 7   PJ         654 non-null    int64  \n",
      " 8   PT         654 non-null    int64  \n",
      " 9   PC         654 non-null    int64  \n",
      " 10  PS         654 non-null    int64  \n",
      " 11  PX         654 non-null    int64  \n",
      " 12  PG         654 non-null    int64  \n",
      " 13  PE         654 non-null    int64  \n",
      " 14  PP         654 non-null    int64  \n",
      " 15  Min        654 non-null    int64  \n",
      " 16  G          654 non-null    int64  \n",
      " 17  GP         654 non-null    int64  \n",
      " 18  GPP        654 non-null    int64  \n",
      " 19  GE         654 non-null    int64  \n",
      " 20  TA         654 non-null    int64  \n",
      " 21  TR         654 non-null    int64  \n",
      " 22  EI         654 non-null    int64  \n",
      " 23  EF         654 non-null    int64  \n",
      " 24  Altura     654 non-null    float64\n",
      " 25  Peso       654 non-null    float64\n",
      "dtypes: float64(2), int64(17), object(7)\n",
      "memory usage: 133.0+ KB\n",
      "None\n"
     ]
    }
   ],
   "source": [
    "print(df.info())"
   ]
  },
  {
   "cell_type": "code",
   "execution_count": 16,
   "id": "c224052b",
   "metadata": {},
   "outputs": [
    {
     "name": "stdout",
     "output_type": "stream",
     "text": [
      "               PJ          PT          PC          PS          PX          PG  \\\n",
      "count  654.000000  654.000000  654.000000  654.000000  654.000000  654.000000   \n",
      "mean    14.155963   11.085627    8.006116    3.070336    3.056575    8.391437   \n",
      "std     22.460518   19.330256   14.271486    5.229901    7.115855   15.330149   \n",
      "min      1.000000    0.000000    0.000000    0.000000    0.000000    0.000000   \n",
      "25%      2.000000    1.000000    1.000000    0.000000    0.000000    1.000000   \n",
      "50%      5.000000    4.000000    3.000000    1.000000    1.000000    3.000000   \n",
      "75%     16.000000   12.000000    9.000000    3.000000    3.000000    9.000000   \n",
      "max    180.000000  161.000000  125.000000   42.000000   59.000000  131.000000   \n",
      "\n",
      "               PE          PP           Min           G          GP  \\\n",
      "count  654.000000  654.000000    654.000000  654.000000  654.000000   \n",
      "mean     3.333333    2.431193   1005.507645    1.960245    0.142202   \n",
      "std      4.831199    3.607972   1669.924268    5.165109    0.873092   \n",
      "min      0.000000    0.000000      1.000000    0.000000    0.000000   \n",
      "25%      0.000000    0.000000     90.000000    0.000000    0.000000   \n",
      "50%      1.000000    1.000000    360.000000    0.000000    0.000000   \n",
      "75%      4.000000    3.000000   1129.250000    1.000000    0.000000   \n",
      "max     33.000000   23.000000  13709.000000   59.000000   11.000000   \n",
      "\n",
      "              GPP          GE          TA          TR          EI          EF  \\\n",
      "count  654.000000  654.000000  654.000000  654.000000  654.000000  654.000000   \n",
      "mean     0.019878    0.905199    0.917431    0.032110   23.949541   26.831804   \n",
      "std      0.139687    6.868723    2.419149    0.184904    2.782392    3.488660   \n",
      "min      0.000000    0.000000    0.000000    0.000000   17.000000   17.000000   \n",
      "25%      0.000000    0.000000    0.000000    0.000000   22.000000   25.000000   \n",
      "50%      0.000000    0.000000    0.000000    0.000000   24.000000   27.000000   \n",
      "75%      0.000000    0.000000    1.000000    0.000000   26.000000   29.000000   \n",
      "max      1.000000  100.000000   24.000000    2.000000   34.000000   36.000000   \n",
      "\n",
      "           Altura        Peso  \n",
      "count  654.000000  654.000000  \n",
      "mean   177.594801   73.915902  \n",
      "std      6.021862    5.713472  \n",
      "min    160.000000   60.000000  \n",
      "25%    173.000000   70.000000  \n",
      "50%    178.000000   74.000000  \n",
      "75%    181.750000   77.000000  \n",
      "max    197.000000   95.000000  \n"
     ]
    }
   ],
   "source": [
    "print(df.describe())"
   ]
  },
  {
   "cell_type": "code",
   "execution_count": 17,
   "id": "a14281df",
   "metadata": {},
   "outputs": [
    {
     "data": {
      "text/plain": [
       "Collection(Database(MongoClient(host=['localhost:27017'], document_class=dict, tz_aware=False, connect=True), 'seleccio'), 'stats')"
      ]
     },
     "execution_count": 17,
     "metadata": {},
     "output_type": "execute_result"
    }
   ],
   "source": [
    "#Dades de la bbd\n",
    "mydb.stats"
   ]
  },
  {
   "cell_type": "code",
   "execution_count": null,
   "id": "328c495c",
   "metadata": {},
   "outputs": [],
   "source": []
  }
 ],
 "metadata": {
  "kernelspec": {
   "display_name": "Python 3 (ipykernel)",
   "language": "python",
   "name": "python3"
  },
  "language_info": {
   "codemirror_mode": {
    "name": "ipython",
    "version": 3
   },
   "file_extension": ".py",
   "mimetype": "text/x-python",
   "name": "python",
   "nbconvert_exporter": "python",
   "pygments_lexer": "ipython3",
   "version": "3.9.7"
  }
 },
 "nbformat": 4,
 "nbformat_minor": 5
}
